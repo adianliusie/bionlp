{
 "cells": [
  {
   "cell_type": "code",
   "execution_count": 13,
   "id": "d14cf50d",
   "metadata": {},
   "outputs": [],
   "source": [
    "from src.utils.general import load_json\n",
    "import pickle\n",
    "\n",
    "\n",
    "data = load_json('../../models/t5-large-A/bionlp_test')\n",
    "\n",
    "with open('../../models/t5-large-A/bionlp_test.pk', 'wb') as handle:\n",
    "    pickle.dump(data, handle)\n"
   ]
  },
  {
   "cell_type": "code",
   "execution_count": 1,
   "id": "b6d6faf0",
   "metadata": {},
   "outputs": [
    {
     "name": "stdout",
     "output_type": "stream",
     "text": [
      "True\n"
     ]
    }
   ],
   "source": [
    "import os\n",
    "\n",
    "print(os.path.isdir(f\"../../models/t5-large-A/eval\"))\n"
   ]
  },
  {
   "cell_type": "code",
   "execution_count": 14,
   "id": "073b9468",
   "metadata": {},
   "outputs": [
    {
     "ename": "FileNotFoundError",
     "evalue": "[Errno 2] No such file or directory: '../../scripts/models/t5-base-ASO/seed-1/model_args.json'",
     "output_type": "error",
     "traceback": [
      "\u001b[0;31m---------------------------------------------------------------------------\u001b[0m",
      "\u001b[0;31mFileNotFoundError\u001b[0m                         Traceback (most recent call last)",
      "Input \u001b[0;32mIn [14]\u001b[0m, in \u001b[0;36m<cell line: 5>\u001b[0;34m()\u001b[0m\n\u001b[1;32m      3\u001b[0m path \u001b[38;5;241m=\u001b[39m \u001b[38;5;124m'\u001b[39m\u001b[38;5;124m../../scripts/models/t5-base-ASO/seed-1\u001b[39m\u001b[38;5;124m'\u001b[39m\n\u001b[1;32m      4\u001b[0m evaluater \u001b[38;5;241m=\u001b[39m Evaluater(path, \u001b[38;5;124m'\u001b[39m\u001b[38;5;124mcuda\u001b[39m\u001b[38;5;124m'\u001b[39m)\n\u001b[0;32m----> 5\u001b[0m pred_texts \u001b[38;5;241m=\u001b[39m \u001b[43mevaluater\u001b[49m\u001b[38;5;241;43m.\u001b[39;49m\u001b[43mload_pred_texts\u001b[49m\u001b[43m(\u001b[49m\u001b[38;5;124;43m'\u001b[39;49m\u001b[38;5;124;43mbionlp\u001b[39;49m\u001b[38;5;124;43m'\u001b[39;49m\u001b[43m,\u001b[49m\u001b[43m \u001b[49m\u001b[38;5;124;43m'\u001b[39;49m\u001b[38;5;124;43mtest\u001b[39;49m\u001b[38;5;124;43m'\u001b[39;49m\u001b[43m)\u001b[49m\n\u001b[1;32m      6\u001b[0m label_texts \u001b[38;5;241m=\u001b[39m evaluater\u001b[38;5;241m.\u001b[39mload_label_texts(\u001b[38;5;124m'\u001b[39m\u001b[38;5;124mbionlp\u001b[39m\u001b[38;5;124m'\u001b[39m, \u001b[38;5;124m'\u001b[39m\u001b[38;5;124mtest\u001b[39m\u001b[38;5;124m'\u001b[39m)\n",
      "File \u001b[0;32m/home/alta/summary/BioNLP2023/al826/supervised/experiments/debugging/src/handlers/evaluater.py:38\u001b[0m, in \u001b[0;36mEvaluater.load_pred_texts\u001b[0;34m(self, dataset, mode)\u001b[0m\n\u001b[1;32m     36\u001b[0m \u001b[38;5;28;01mdef\u001b[39;00m \u001b[38;5;21mload_pred_texts\u001b[39m(\u001b[38;5;28mself\u001b[39m, dataset:\u001b[38;5;28mstr\u001b[39m, mode:\u001b[38;5;28mstr\u001b[39m\u001b[38;5;241m=\u001b[39m\u001b[38;5;124m'\u001b[39m\u001b[38;5;124mtest\u001b[39m\u001b[38;5;124m'\u001b[39m):\n\u001b[1;32m     37\u001b[0m     \u001b[38;5;28;01mif\u001b[39;00m \u001b[38;5;129;01mnot\u001b[39;00m \u001b[38;5;28mself\u001b[39m\u001b[38;5;241m.\u001b[39mtexts_exist(dataset, mode):\n\u001b[0;32m---> 38\u001b[0m         \u001b[38;5;28;43mself\u001b[39;49m\u001b[38;5;241;43m.\u001b[39;49m\u001b[43msetup_helpers\u001b[49m\u001b[43m(\u001b[49m\u001b[43m)\u001b[49m\n\u001b[1;32m     39\u001b[0m         texts \u001b[38;5;241m=\u001b[39m \u001b[38;5;28mself\u001b[39m\u001b[38;5;241m.\u001b[39mgenerate_texts(dataset, mode)\n\u001b[1;32m     40\u001b[0m         \u001b[38;5;28mself\u001b[39m\u001b[38;5;241m.\u001b[39msave_cache_texts(texts, dataset, mode)\n",
      "File \u001b[0;32m/home/alta/summary/BioNLP2023/al826/supervised/experiments/debugging/src/handlers/evaluater.py:27\u001b[0m, in \u001b[0;36mEvaluater.setup_helpers\u001b[0;34m(self)\u001b[0m\n\u001b[1;32m     25\u001b[0m \u001b[38;5;28;01mdef\u001b[39;00m \u001b[38;5;21msetup_helpers\u001b[39m(\u001b[38;5;28mself\u001b[39m):\n\u001b[1;32m     26\u001b[0m     \u001b[38;5;66;03m# load arguments \u001b[39;00m\n\u001b[0;32m---> 27\u001b[0m     args \u001b[38;5;241m=\u001b[39m \u001b[38;5;28;43mself\u001b[39;49m\u001b[38;5;241;43m.\u001b[39;49m\u001b[43mload_args\u001b[49m\u001b[43m(\u001b[49m\u001b[38;5;124;43m'\u001b[39;49m\u001b[38;5;124;43mmodel_args.json\u001b[39;49m\u001b[38;5;124;43m'\u001b[39;49m\u001b[43m)\u001b[49m\n\u001b[1;32m     29\u001b[0m     \u001b[38;5;66;03m# set up attributes \u001b[39;00m\n\u001b[1;32m     30\u001b[0m     \u001b[38;5;28msuper\u001b[39m()\u001b[38;5;241m.\u001b[39msetup_helpers(args)\n",
      "File \u001b[0;32m/home/alta/summary/BioNLP2023/al826/supervised/experiments/debugging/src/handlers/trainer.py:191\u001b[0m, in \u001b[0;36mTrainer.load_args\u001b[0;34m(self, name)\u001b[0m\n\u001b[1;32m    189\u001b[0m \u001b[38;5;28;01mdef\u001b[39;00m \u001b[38;5;21mload_args\u001b[39m(\u001b[38;5;28mself\u001b[39m, name: \u001b[38;5;28mstr\u001b[39m) \u001b[38;5;241m-\u001b[39m\u001b[38;5;241m>\u001b[39m SimpleNamespace:\n\u001b[1;32m    190\u001b[0m     path \u001b[38;5;241m=\u001b[39m os\u001b[38;5;241m.\u001b[39mpath\u001b[38;5;241m.\u001b[39mjoin(\u001b[38;5;28mself\u001b[39m\u001b[38;5;241m.\u001b[39mexp_path, name)\n\u001b[0;32m--> 191\u001b[0m     args \u001b[38;5;241m=\u001b[39m \u001b[43mload_json\u001b[49m\u001b[43m(\u001b[49m\u001b[43mpath\u001b[49m\u001b[43m)\u001b[49m\n\u001b[1;32m    192\u001b[0m     \u001b[38;5;28;01mreturn\u001b[39;00m SimpleNamespace(\u001b[38;5;241m*\u001b[39m\u001b[38;5;241m*\u001b[39margs)\n",
      "File \u001b[0;32m/home/alta/summary/BioNLP2023/al826/supervised/experiments/debugging/src/utils/general.py:13\u001b[0m, in \u001b[0;36mload_json\u001b[0;34m(path)\u001b[0m\n\u001b[1;32m     12\u001b[0m \u001b[38;5;28;01mdef\u001b[39;00m \u001b[38;5;21mload_json\u001b[39m(path:\u001b[38;5;28mstr\u001b[39m)\u001b[38;5;241m-\u001b[39m\u001b[38;5;241m>\u001b[39m\u001b[38;5;28mdict\u001b[39m:\n\u001b[0;32m---> 13\u001b[0m     \u001b[38;5;28;01mwith\u001b[39;00m \u001b[38;5;28;43mopen\u001b[39;49m\u001b[43m(\u001b[49m\u001b[43mpath\u001b[49m\u001b[43m)\u001b[49m \u001b[38;5;28;01mas\u001b[39;00m jsonFile:\n\u001b[1;32m     14\u001b[0m         data \u001b[38;5;241m=\u001b[39m json\u001b[38;5;241m.\u001b[39mload(jsonFile)\n\u001b[1;32m     15\u001b[0m     \u001b[38;5;28;01mreturn\u001b[39;00m data\n",
      "\u001b[0;31mFileNotFoundError\u001b[0m: [Errno 2] No such file or directory: '../../scripts/models/t5-base-ASO/seed-1/model_args.json'"
     ]
    }
   ],
   "source": [
    "from src.handlers.evaluater import Evaluater\n",
    "\n",
    "path = '../../scripts/models/t5-base-ASO/seed-1'\n",
    "evaluater = Evaluater(path, 'cuda')\n",
    "pred_texts = evaluater.load_pred_texts('bionlp', 'test')\n",
    "label_texts = evaluater.load_label_texts('bionlp', 'test')"
   ]
  },
  {
   "cell_type": "code",
   "execution_count": 13,
   "id": "68519346",
   "metadata": {},
   "outputs": [
    {
     "name": "stderr",
     "output_type": "stream",
     "text": [
      "2023-03-20 13:54:18 INFO     Using default tokenizer.\n"
     ]
    },
    {
     "name": "stdout",
     "output_type": "stream",
     "text": [
      "rouge_1: 0.096\n",
      "rouge_2: 0.029\n",
      "rouge_L: 0.092\n"
     ]
    }
   ],
   "source": [
    "_ = evaluater.calculate_rouge(pred_texts, label_texts, display=True)"
   ]
  },
  {
   "cell_type": "code",
   "execution_count": null,
   "id": "529158bc",
   "metadata": {},
   "outputs": [],
   "source": [
    "print(preds_texts[7])\n",
    "print(label_texts[7])"
   ]
  },
  {
   "cell_type": "code",
   "execution_count": 21,
   "id": "3c55e20c",
   "metadata": {},
   "outputs": [],
   "source": [
    "from src.data.handler import DataHandler\n",
    "\n",
    "X = DataHandler('t5-base', formatting='{S}')"
   ]
  },
  {
   "cell_type": "code",
   "execution_count": 22,
   "id": "0c78039c",
   "metadata": {},
   "outputs": [
    {
     "name": "stderr",
     "output_type": "stream",
     "text": [
      "  0%|                                                                        | 0/760 [00:00<?, ?it/s]Token indices sequence length is longer than the specified maximum sequence length for this model (602 > 512). Running this sequence through the model will result in indexing errors\n",
      "100%|████████████████████████████████████████████████████████████| 760/760 [00:00<00:00, 1282.14it/s]\n",
      "100%|████████████████████████████████████████████████████████████| 760/760 [00:00<00:00, 1693.92it/s]\n",
      "100%|████████████████████████████████████████████████████████████| 760/760 [00:00<00:00, 2032.84it/s]\n"
     ]
    }
   ],
   "source": [
    "train, dev, test = X.prep_data('bionlp')"
   ]
  },
  {
   "cell_type": "code",
   "execution_count": 23,
   "id": "9c46a9e7",
   "metadata": {},
   "outputs": [
    {
     "name": "stdout",
     "output_type": "stream",
     "text": [
      "ULTRASOUND - At [**2121-3-16**] 11:32 AM\n",
      "- MD [**First Name (Titles) 2745**] [**Last Name (Titles) 11871**] [**Name (NI) 1270**] but coulnd't leave voicemail because her\n",
      "voicemail wasn't set up\n",
      "- patient refused NGT for kayexalate; K 6.5 at noon; ECG unremarkable.\n",
      "Was able to take PO well in p.m., received kayexalate; K down to 5.0\n",
      "- renal u/s: no hydronephrosis\n",
      "No Known Drug Allergies\n",
      "Changes to  and\n",
      "f\n",
      "Review of systems is unchanged from admission except as noted below\n",
      "Review of systems:\n"
     ]
    }
   ],
   "source": [
    "print(train[0].input_text)"
   ]
  },
  {
   "cell_type": "code",
   "execution_count": null,
   "id": "c7894f31",
   "metadata": {},
   "outputs": [],
   "source": [
    "train = X.load_split('bionlp', 'test')"
   ]
  },
  {
   "cell_type": "code",
   "execution_count": null,
   "id": "39153274",
   "metadata": {},
   "outputs": [],
   "source": [
    "import numpy as np\n",
    "print([x.summary is np.nan for x in train])"
   ]
  },
  {
   "cell_type": "code",
   "execution_count": null,
   "id": "e06d7a6b",
   "metadata": {},
   "outputs": [],
   "source": [
    "import pandas as pd\n",
    "\n",
    "path = '/home/alta/summary/BioNLP2023/bionlp2023-1a-train-og.csv'\n",
    "df = pd.read_csv(path)"
   ]
  },
  {
   "cell_type": "code",
   "execution_count": null,
   "id": "8336c703",
   "metadata": {},
   "outputs": [],
   "source": [
    "print([x.summary is np.nan for x in df])"
   ]
  },
  {
   "cell_type": "code",
   "execution_count": null,
   "id": "6eb4ad2a",
   "metadata": {},
   "outputs": [],
   "source": [
    "#a.iloc[0]['Assessment']\n",
    "print(df.iloc[0]['Subjective Sections'])\n",
    "df.iloc[0]['Objective Sections']\n",
    "print(df.iloc[0]['Summary'])"
   ]
  },
  {
   "cell_type": "code",
   "execution_count": null,
   "id": "162622ca",
   "metadata": {},
   "outputs": [],
   "source": [
    "for index, row in df.iterrows():\n",
    "    print(row)\n",
    "    time.sleep(1)"
   ]
  },
  {
   "cell_type": "code",
   "execution_count": null,
   "id": "4ff29d29",
   "metadata": {},
   "outputs": [],
   "source": [
    "import numpy as np\n",
    "\n",
    "data = []\n",
    "\n",
    "data_path = '/home/alta/summary/BioNLP2023/bionlp2023-1a-train-og.csv'\n",
    "df = pd.read_csv(path)\n",
    "for index, row in df.iterrows():\n",
    "    print(index)\n",
    "    row_info = {\n",
    "        'file_id': row['File ID'],\n",
    "        'objective': row['Objective Sections'],\n",
    "        'subjective': row['Subjective Sections'],\n",
    "        'assessment': row['Assessment'],\n",
    "        'summary': row['Summary']\n",
    "    }\n",
    "    data.append(row_info)"
   ]
  },
  {
   "cell_type": "code",
   "execution_count": null,
   "id": "06df7112",
   "metadata": {},
   "outputs": [],
   "source": [
    "fold_splits_ids = '/home/alta/relevance/vr311/bionlp/split.npy'\n",
    "ids = np.load(fold_splits_ids)"
   ]
  },
  {
   "cell_type": "code",
   "execution_count": null,
   "id": "6d551df5",
   "metadata": {},
   "outputs": [],
   "source": [
    "print(ids[2])"
   ]
  },
  {
   "cell_type": "code",
   "execution_count": null,
   "id": "5afe06b4",
   "metadata": {},
   "outputs": [],
   "source": [
    "improt sr"
   ]
  }
 ],
 "metadata": {
  "kernelspec": {
   "display_name": "Python 3 (ipykernel)",
   "language": "python",
   "name": "python3"
  },
  "language_info": {
   "codemirror_mode": {
    "name": "ipython",
    "version": 3
   },
   "file_extension": ".py",
   "mimetype": "text/x-python",
   "name": "python",
   "nbconvert_exporter": "python",
   "pygments_lexer": "ipython3",
   "version": "3.9.12"
  }
 },
 "nbformat": 4,
 "nbformat_minor": 5
}
